{
 "cells": [
  {
   "cell_type": "markdown",
   "id": "807a430f",
   "metadata": {},
   "source": [
    "# Analysis of Cricket Matches from ODI 2018\n",
    "\n",
    "This dataset is about cricket matches from ODI Series 2018. It contains information regarding the participarting teams, winner, margin, match date, venue and score card.\n",
    "\n",
    "## Importing Libraries"
   ]
  },
  {
   "cell_type": "code",
   "execution_count": 1,
   "id": "1f0f55dd",
   "metadata": {},
   "outputs": [],
   "source": [
    "import pandas as pd\n",
    "import numpy as np\n",
    "import matplotlib.pyplot as plt\n",
    "%matplotlib inline"
   ]
  },
  {
   "cell_type": "markdown",
   "id": "b6599658",
   "metadata": {},
   "source": [
    "## Importing Data \n",
    "Data is being imported from excel sheet"
   ]
  },
  {
   "cell_type": "code",
   "execution_count": 2,
   "id": "a90f8503",
   "metadata": {},
   "outputs": [
    {
     "data": {
      "text/html": [
       "<div>\n",
       "<style scoped>\n",
       "    .dataframe tbody tr th:only-of-type {\n",
       "        vertical-align: middle;\n",
       "    }\n",
       "\n",
       "    .dataframe tbody tr th {\n",
       "        vertical-align: top;\n",
       "    }\n",
       "\n",
       "    .dataframe thead th {\n",
       "        text-align: right;\n",
       "    }\n",
       "</style>\n",
       "<table border=\"1\" class=\"dataframe\">\n",
       "  <thead>\n",
       "    <tr style=\"text-align: right;\">\n",
       "      <th></th>\n",
       "      <th>Team 1</th>\n",
       "      <th>Team 2</th>\n",
       "      <th>Winner</th>\n",
       "      <th>Margin</th>\n",
       "      <th>Ground</th>\n",
       "      <th>Match Date</th>\n",
       "      <th>Scorecard</th>\n",
       "    </tr>\n",
       "  </thead>\n",
       "  <tbody>\n",
       "    <tr>\n",
       "      <th>0</th>\n",
       "      <td>New Zealand</td>\n",
       "      <td>Pakistan</td>\n",
       "      <td>New Zealand</td>\n",
       "      <td>61 runs</td>\n",
       "      <td>Wellington</td>\n",
       "      <td>2018-01-06</td>\n",
       "      <td>ODI # 3946</td>\n",
       "    </tr>\n",
       "    <tr>\n",
       "      <th>1</th>\n",
       "      <td>New Zealand</td>\n",
       "      <td>Pakistan</td>\n",
       "      <td>New Zealand</td>\n",
       "      <td>8 wickets</td>\n",
       "      <td>Nelson</td>\n",
       "      <td>2018-01-09</td>\n",
       "      <td>ODI # 3947</td>\n",
       "    </tr>\n",
       "    <tr>\n",
       "      <th>2</th>\n",
       "      <td>U.A.E.</td>\n",
       "      <td>Ireland</td>\n",
       "      <td>Ireland</td>\n",
       "      <td>4 wickets</td>\n",
       "      <td>ICCA Dubai</td>\n",
       "      <td>2018-01-11</td>\n",
       "      <td>ODI # 3948</td>\n",
       "    </tr>\n",
       "    <tr>\n",
       "      <th>3</th>\n",
       "      <td>New Zealand</td>\n",
       "      <td>Pakistan</td>\n",
       "      <td>New Zealand</td>\n",
       "      <td>183 runs</td>\n",
       "      <td>Dunedin</td>\n",
       "      <td>2018-01-13</td>\n",
       "      <td>ODI # 3949</td>\n",
       "    </tr>\n",
       "    <tr>\n",
       "      <th>4</th>\n",
       "      <td>U.A.E.</td>\n",
       "      <td>Ireland</td>\n",
       "      <td>Ireland</td>\n",
       "      <td>67 runs</td>\n",
       "      <td>ICCA Dubai</td>\n",
       "      <td>2018-01-13</td>\n",
       "      <td>ODI # 3950</td>\n",
       "    </tr>\n",
       "  </tbody>\n",
       "</table>\n",
       "</div>"
      ],
      "text/plain": [
       "        Team 1    Team 2       Winner     Margin      Ground Match Date  \\\n",
       "0  New Zealand  Pakistan  New Zealand    61 runs  Wellington 2018-01-06   \n",
       "1  New Zealand  Pakistan  New Zealand  8 wickets      Nelson 2018-01-09   \n",
       "2       U.A.E.   Ireland      Ireland  4 wickets  ICCA Dubai 2018-01-11   \n",
       "3  New Zealand  Pakistan  New Zealand   183 runs     Dunedin 2018-01-13   \n",
       "4       U.A.E.   Ireland      Ireland    67 runs  ICCA Dubai 2018-01-13   \n",
       "\n",
       "    Scorecard  \n",
       "0  ODI # 3946  \n",
       "1  ODI # 3947  \n",
       "2  ODI # 3948  \n",
       "3  ODI # 3949  \n",
       "4  ODI # 3950  "
      ]
     },
     "execution_count": 2,
     "metadata": {},
     "output_type": "execute_result"
    }
   ],
   "source": [
    "matchesData = pd.read_excel(\"Cricket Matches1.xlsx\")\n",
    "matchesData.head()"
   ]
  },
  {
   "cell_type": "code",
   "execution_count": 125,
   "id": "3da6a712",
   "metadata": {},
   "outputs": [
    {
     "name": "stdout",
     "output_type": "stream",
     "text": [
      "<class 'pandas.core.frame.DataFrame'>\n",
      "Int64Index: 126 entries, 0 to 127\n",
      "Data columns (total 9 columns):\n",
      " #   Column      Non-Null Count  Dtype         \n",
      "---  ------      --------------  -----         \n",
      " 0   Team 1      126 non-null    object        \n",
      " 1   Team 2      126 non-null    object        \n",
      " 2   Winner      126 non-null    object        \n",
      " 3   Margin      126 non-null    string        \n",
      " 4   Ground      126 non-null    object        \n",
      " 5   Match Date  126 non-null    datetime64[ns]\n",
      " 6   Scorecard   126 non-null    object        \n",
      " 7   Wickets     121 non-null    object        \n",
      " 8   Runs        121 non-null    float64       \n",
      "dtypes: datetime64[ns](1), float64(1), object(6), string(1)\n",
      "memory usage: 13.9+ KB\n"
     ]
    }
   ],
   "source": [
    "matchesData.info() # shows the datatypes of all columns in the dataframe"
   ]
  },
  {
   "cell_type": "markdown",
   "id": "749eb034",
   "metadata": {},
   "source": [
    "## Cleaning Data"
   ]
  },
  {
   "cell_type": "markdown",
   "id": "6cc446ff",
   "metadata": {},
   "source": [
    "First off we eliminate the matches that do not have any result"
   ]
  },
  {
   "cell_type": "code",
   "execution_count": 3,
   "id": "9949005f",
   "metadata": {},
   "outputs": [
    {
     "data": {
      "text/html": [
       "<div>\n",
       "<style scoped>\n",
       "    .dataframe tbody tr th:only-of-type {\n",
       "        vertical-align: middle;\n",
       "    }\n",
       "\n",
       "    .dataframe tbody tr th {\n",
       "        vertical-align: top;\n",
       "    }\n",
       "\n",
       "    .dataframe thead th {\n",
       "        text-align: right;\n",
       "    }\n",
       "</style>\n",
       "<table border=\"1\" class=\"dataframe\">\n",
       "  <thead>\n",
       "    <tr style=\"text-align: right;\">\n",
       "      <th></th>\n",
       "      <th>Team 1</th>\n",
       "      <th>Team 2</th>\n",
       "      <th>Winner</th>\n",
       "      <th>Margin</th>\n",
       "      <th>Ground</th>\n",
       "      <th>Match Date</th>\n",
       "      <th>Scorecard</th>\n",
       "    </tr>\n",
       "  </thead>\n",
       "  <tbody>\n",
       "    <tr>\n",
       "      <th>106</th>\n",
       "      <td>Sri Lanka</td>\n",
       "      <td>England</td>\n",
       "      <td>no result</td>\n",
       "      <td>NaN</td>\n",
       "      <td>Dambulla</td>\n",
       "      <td>2018-10-10</td>\n",
       "      <td>ODI # 4052</td>\n",
       "    </tr>\n",
       "    <tr>\n",
       "      <th>124</th>\n",
       "      <td>New Zealand</td>\n",
       "      <td>Pakistan</td>\n",
       "      <td>no result</td>\n",
       "      <td>NaN</td>\n",
       "      <td>Dubai (DSC)</td>\n",
       "      <td>2018-11-11</td>\n",
       "      <td>ODI # 4070</td>\n",
       "    </tr>\n",
       "  </tbody>\n",
       "</table>\n",
       "</div>"
      ],
      "text/plain": [
       "          Team 1    Team 2     Winner Margin       Ground Match Date  \\\n",
       "106    Sri Lanka   England  no result    NaN     Dambulla 2018-10-10   \n",
       "124  New Zealand  Pakistan  no result    NaN  Dubai (DSC) 2018-11-11   \n",
       "\n",
       "      Scorecard  \n",
       "106  ODI # 4052  \n",
       "124  ODI # 4070  "
      ]
     },
     "execution_count": 3,
     "metadata": {},
     "output_type": "execute_result"
    }
   ],
   "source": [
    "matchesData[matchesData['Winner'] == \"no result\"] "
   ]
  },
  {
   "cell_type": "markdown",
   "id": "a58a855e",
   "metadata": {},
   "source": [
    " As we can see that two matches donot have any results hence we can ignore these since they will not affect our results"
   ]
  },
  {
   "cell_type": "code",
   "execution_count": 4,
   "id": "1db5eae8",
   "metadata": {},
   "outputs": [],
   "source": [
    "#removing such rows\n",
    "matchesData = matchesData.drop(matchesData[matchesData['Winner'] == \"no result\"].index)"
   ]
  },
  {
   "cell_type": "markdown",
   "id": "78668c53",
   "metadata": {},
   "source": [
    "Handling matches which tied as there won't be any margin parameter"
   ]
  },
  {
   "cell_type": "code",
   "execution_count": 5,
   "id": "8e4d808d",
   "metadata": {},
   "outputs": [
    {
     "data": {
      "text/html": [
       "<div>\n",
       "<style scoped>\n",
       "    .dataframe tbody tr th:only-of-type {\n",
       "        vertical-align: middle;\n",
       "    }\n",
       "\n",
       "    .dataframe tbody tr th {\n",
       "        vertical-align: top;\n",
       "    }\n",
       "\n",
       "    .dataframe thead th {\n",
       "        text-align: right;\n",
       "    }\n",
       "</style>\n",
       "<table border=\"1\" class=\"dataframe\">\n",
       "  <thead>\n",
       "    <tr style=\"text-align: right;\">\n",
       "      <th></th>\n",
       "      <th>Team 1</th>\n",
       "      <th>Team 2</th>\n",
       "      <th>Winner</th>\n",
       "      <th>Margin</th>\n",
       "      <th>Ground</th>\n",
       "      <th>Match Date</th>\n",
       "      <th>Scorecard</th>\n",
       "    </tr>\n",
       "  </thead>\n",
       "  <tbody>\n",
       "    <tr>\n",
       "      <th>50</th>\n",
       "      <td>Zimbabwe</td>\n",
       "      <td>Scotland</td>\n",
       "      <td>tied</td>\n",
       "      <td>NaN</td>\n",
       "      <td>Bulawayo</td>\n",
       "      <td>2018-03-12</td>\n",
       "      <td>ODI # 3996</td>\n",
       "    </tr>\n",
       "    <tr>\n",
       "      <th>100</th>\n",
       "      <td>Afghanistan</td>\n",
       "      <td>India</td>\n",
       "      <td>tied</td>\n",
       "      <td>NaN</td>\n",
       "      <td>Dubai (DSC)</td>\n",
       "      <td>2018-09-25</td>\n",
       "      <td>ODI # 4046</td>\n",
       "    </tr>\n",
       "    <tr>\n",
       "      <th>113</th>\n",
       "      <td>India</td>\n",
       "      <td>West Indies</td>\n",
       "      <td>tied</td>\n",
       "      <td>NaN</td>\n",
       "      <td>Visakhapatnam</td>\n",
       "      <td>2018-10-24</td>\n",
       "      <td>ODI # 4059</td>\n",
       "    </tr>\n",
       "  </tbody>\n",
       "</table>\n",
       "</div>"
      ],
      "text/plain": [
       "          Team 1       Team 2 Winner Margin         Ground Match Date  \\\n",
       "50      Zimbabwe     Scotland   tied    NaN       Bulawayo 2018-03-12   \n",
       "100  Afghanistan        India   tied    NaN    Dubai (DSC) 2018-09-25   \n",
       "113        India  West Indies   tied    NaN  Visakhapatnam 2018-10-24   \n",
       "\n",
       "      Scorecard  \n",
       "50   ODI # 3996  \n",
       "100  ODI # 4046  \n",
       "113  ODI # 4059  "
      ]
     },
     "execution_count": 5,
     "metadata": {},
     "output_type": "execute_result"
    }
   ],
   "source": [
    "matchesData[matchesData['Winner'] == \"tied\"]"
   ]
  },
  {
   "cell_type": "code",
   "execution_count": 6,
   "id": "06b5d8f5",
   "metadata": {},
   "outputs": [
    {
     "data": {
      "text/html": [
       "<div>\n",
       "<style scoped>\n",
       "    .dataframe tbody tr th:only-of-type {\n",
       "        vertical-align: middle;\n",
       "    }\n",
       "\n",
       "    .dataframe tbody tr th {\n",
       "        vertical-align: top;\n",
       "    }\n",
       "\n",
       "    .dataframe thead th {\n",
       "        text-align: right;\n",
       "    }\n",
       "</style>\n",
       "<table border=\"1\" class=\"dataframe\">\n",
       "  <thead>\n",
       "    <tr style=\"text-align: right;\">\n",
       "      <th></th>\n",
       "      <th>Team 1</th>\n",
       "      <th>Team 2</th>\n",
       "      <th>Winner</th>\n",
       "      <th>Margin</th>\n",
       "      <th>Ground</th>\n",
       "      <th>Match Date</th>\n",
       "      <th>Scorecard</th>\n",
       "    </tr>\n",
       "  </thead>\n",
       "  <tbody>\n",
       "    <tr>\n",
       "      <th>50</th>\n",
       "      <td>Zimbabwe</td>\n",
       "      <td>Scotland</td>\n",
       "      <td>tied</td>\n",
       "      <td>0</td>\n",
       "      <td>Bulawayo</td>\n",
       "      <td>2018-03-12</td>\n",
       "      <td>ODI # 3996</td>\n",
       "    </tr>\n",
       "    <tr>\n",
       "      <th>100</th>\n",
       "      <td>Afghanistan</td>\n",
       "      <td>India</td>\n",
       "      <td>tied</td>\n",
       "      <td>0</td>\n",
       "      <td>Dubai (DSC)</td>\n",
       "      <td>2018-09-25</td>\n",
       "      <td>ODI # 4046</td>\n",
       "    </tr>\n",
       "    <tr>\n",
       "      <th>113</th>\n",
       "      <td>India</td>\n",
       "      <td>West Indies</td>\n",
       "      <td>tied</td>\n",
       "      <td>0</td>\n",
       "      <td>Visakhapatnam</td>\n",
       "      <td>2018-10-24</td>\n",
       "      <td>ODI # 4059</td>\n",
       "    </tr>\n",
       "  </tbody>\n",
       "</table>\n",
       "</div>"
      ],
      "text/plain": [
       "          Team 1       Team 2 Winner Margin         Ground Match Date  \\\n",
       "50      Zimbabwe     Scotland   tied      0       Bulawayo 2018-03-12   \n",
       "100  Afghanistan        India   tied      0    Dubai (DSC) 2018-09-25   \n",
       "113        India  West Indies   tied      0  Visakhapatnam 2018-10-24   \n",
       "\n",
       "      Scorecard  \n",
       "50   ODI # 3996  \n",
       "100  ODI # 4046  \n",
       "113  ODI # 4059  "
      ]
     },
     "execution_count": 6,
     "metadata": {},
     "output_type": "execute_result"
    }
   ],
   "source": [
    "#tied matches donot have any parameter to determine margine hence they are marked as 0\n",
    "matchesData.loc[(matchesData.Winner == 'tied'),'Margin'] = '0' \n",
    "matchesData[matchesData['Winner'] == \"tied\"]"
   ]
  },
  {
   "cell_type": "code",
   "execution_count": 7,
   "id": "926ce30f",
   "metadata": {},
   "outputs": [
    {
     "name": "stdout",
     "output_type": "stream",
     "text": [
      "<class 'pandas.core.frame.DataFrame'>\n",
      "Int64Index: 126 entries, 0 to 127\n",
      "Data columns (total 7 columns):\n",
      " #   Column      Non-Null Count  Dtype         \n",
      "---  ------      --------------  -----         \n",
      " 0   Team 1      126 non-null    object        \n",
      " 1   Team 2      126 non-null    object        \n",
      " 2   Winner      126 non-null    object        \n",
      " 3   Margin      126 non-null    string        \n",
      " 4   Ground      126 non-null    object        \n",
      " 5   Match Date  126 non-null    datetime64[ns]\n",
      " 6   Scorecard   126 non-null    object        \n",
      "dtypes: datetime64[ns](1), object(5), string(1)\n",
      "memory usage: 7.9+ KB\n"
     ]
    }
   ],
   "source": [
    "# changing datatype of Margin column for better data handling\n",
    "matchesData['Margin'] = matchesData['Margin'].astype('string')\n",
    "matchesData.info()"
   ]
  },
  {
   "cell_type": "code",
   "execution_count": 8,
   "id": "aa2146a4",
   "metadata": {},
   "outputs": [
    {
     "data": {
      "text/html": [
       "<div>\n",
       "<style scoped>\n",
       "    .dataframe tbody tr th:only-of-type {\n",
       "        vertical-align: middle;\n",
       "    }\n",
       "\n",
       "    .dataframe tbody tr th {\n",
       "        vertical-align: top;\n",
       "    }\n",
       "\n",
       "    .dataframe thead th {\n",
       "        text-align: right;\n",
       "    }\n",
       "</style>\n",
       "<table border=\"1\" class=\"dataframe\">\n",
       "  <thead>\n",
       "    <tr style=\"text-align: right;\">\n",
       "      <th></th>\n",
       "      <th>Team 1</th>\n",
       "      <th>Team 2</th>\n",
       "      <th>Winner</th>\n",
       "      <th>Margin</th>\n",
       "      <th>Ground</th>\n",
       "      <th>Match Date</th>\n",
       "      <th>Scorecard</th>\n",
       "      <th>Wickets</th>\n",
       "      <th>Runs</th>\n",
       "    </tr>\n",
       "  </thead>\n",
       "  <tbody>\n",
       "    <tr>\n",
       "      <th>0</th>\n",
       "      <td>New Zealand</td>\n",
       "      <td>Pakistan</td>\n",
       "      <td>New Zealand</td>\n",
       "      <td>61 runs</td>\n",
       "      <td>Wellington</td>\n",
       "      <td>2018-01-06</td>\n",
       "      <td>ODI # 3946</td>\n",
       "      <td>-1 wickets</td>\n",
       "      <td>61 runs</td>\n",
       "    </tr>\n",
       "    <tr>\n",
       "      <th>1</th>\n",
       "      <td>New Zealand</td>\n",
       "      <td>Pakistan</td>\n",
       "      <td>New Zealand</td>\n",
       "      <td>8 wickets</td>\n",
       "      <td>Nelson</td>\n",
       "      <td>2018-01-09</td>\n",
       "      <td>ODI # 3947</td>\n",
       "      <td>8 wickets</td>\n",
       "      <td>-1 runs</td>\n",
       "    </tr>\n",
       "    <tr>\n",
       "      <th>2</th>\n",
       "      <td>U.A.E.</td>\n",
       "      <td>Ireland</td>\n",
       "      <td>Ireland</td>\n",
       "      <td>4 wickets</td>\n",
       "      <td>ICCA Dubai</td>\n",
       "      <td>2018-01-11</td>\n",
       "      <td>ODI # 3948</td>\n",
       "      <td>4 wickets</td>\n",
       "      <td>-1 runs</td>\n",
       "    </tr>\n",
       "    <tr>\n",
       "      <th>3</th>\n",
       "      <td>New Zealand</td>\n",
       "      <td>Pakistan</td>\n",
       "      <td>New Zealand</td>\n",
       "      <td>183 runs</td>\n",
       "      <td>Dunedin</td>\n",
       "      <td>2018-01-13</td>\n",
       "      <td>ODI # 3949</td>\n",
       "      <td>-1 wickets</td>\n",
       "      <td>183 runs</td>\n",
       "    </tr>\n",
       "    <tr>\n",
       "      <th>4</th>\n",
       "      <td>U.A.E.</td>\n",
       "      <td>Ireland</td>\n",
       "      <td>Ireland</td>\n",
       "      <td>67 runs</td>\n",
       "      <td>ICCA Dubai</td>\n",
       "      <td>2018-01-13</td>\n",
       "      <td>ODI # 3950</td>\n",
       "      <td>-1 wickets</td>\n",
       "      <td>67 runs</td>\n",
       "    </tr>\n",
       "    <tr>\n",
       "      <th>...</th>\n",
       "      <td>...</td>\n",
       "      <td>...</td>\n",
       "      <td>...</td>\n",
       "      <td>...</td>\n",
       "      <td>...</td>\n",
       "      <td>...</td>\n",
       "      <td>...</td>\n",
       "      <td>...</td>\n",
       "      <td>...</td>\n",
       "    </tr>\n",
       "    <tr>\n",
       "      <th>122</th>\n",
       "      <td>New Zealand</td>\n",
       "      <td>Pakistan</td>\n",
       "      <td>Pakistan</td>\n",
       "      <td>6 wickets</td>\n",
       "      <td>Abu Dhabi</td>\n",
       "      <td>2018-11-09</td>\n",
       "      <td>ODI # 4068</td>\n",
       "      <td>6 wickets</td>\n",
       "      <td>-1 runs</td>\n",
       "    </tr>\n",
       "    <tr>\n",
       "      <th>123</th>\n",
       "      <td>Australia</td>\n",
       "      <td>South Africa</td>\n",
       "      <td>South Africa</td>\n",
       "      <td>40 runs</td>\n",
       "      <td>Hobart</td>\n",
       "      <td>2018-11-11</td>\n",
       "      <td>ODI # 4069</td>\n",
       "      <td>-1 wickets</td>\n",
       "      <td>40 runs</td>\n",
       "    </tr>\n",
       "    <tr>\n",
       "      <th>125</th>\n",
       "      <td>Bangladesh</td>\n",
       "      <td>West Indies</td>\n",
       "      <td>Bangladesh</td>\n",
       "      <td>5 wickets</td>\n",
       "      <td>Dhaka</td>\n",
       "      <td>2018-12-09</td>\n",
       "      <td>ODI # 4071</td>\n",
       "      <td>5 wickets</td>\n",
       "      <td>-1 runs</td>\n",
       "    </tr>\n",
       "    <tr>\n",
       "      <th>126</th>\n",
       "      <td>Bangladesh</td>\n",
       "      <td>West Indies</td>\n",
       "      <td>West Indies</td>\n",
       "      <td>4 wickets</td>\n",
       "      <td>Dhaka</td>\n",
       "      <td>2018-12-11</td>\n",
       "      <td>ODI # 4072</td>\n",
       "      <td>4 wickets</td>\n",
       "      <td>-1 runs</td>\n",
       "    </tr>\n",
       "    <tr>\n",
       "      <th>127</th>\n",
       "      <td>Bangladesh</td>\n",
       "      <td>West Indies</td>\n",
       "      <td>Bangladesh</td>\n",
       "      <td>8 wickets</td>\n",
       "      <td>Sylhet</td>\n",
       "      <td>2018-12-14</td>\n",
       "      <td>ODI # 4073</td>\n",
       "      <td>8 wickets</td>\n",
       "      <td>-1 runs</td>\n",
       "    </tr>\n",
       "  </tbody>\n",
       "</table>\n",
       "<p>126 rows × 9 columns</p>\n",
       "</div>"
      ],
      "text/plain": [
       "          Team 1        Team 2        Winner     Margin      Ground  \\\n",
       "0    New Zealand      Pakistan   New Zealand    61 runs  Wellington   \n",
       "1    New Zealand      Pakistan   New Zealand  8 wickets      Nelson   \n",
       "2         U.A.E.       Ireland       Ireland  4 wickets  ICCA Dubai   \n",
       "3    New Zealand      Pakistan   New Zealand   183 runs     Dunedin   \n",
       "4         U.A.E.       Ireland       Ireland    67 runs  ICCA Dubai   \n",
       "..           ...           ...           ...        ...         ...   \n",
       "122  New Zealand      Pakistan      Pakistan  6 wickets   Abu Dhabi   \n",
       "123    Australia  South Africa  South Africa    40 runs      Hobart   \n",
       "125   Bangladesh   West Indies    Bangladesh  5 wickets       Dhaka   \n",
       "126   Bangladesh   West Indies   West Indies  4 wickets       Dhaka   \n",
       "127   Bangladesh   West Indies    Bangladesh  8 wickets      Sylhet   \n",
       "\n",
       "    Match Date   Scorecard     Wickets      Runs  \n",
       "0   2018-01-06  ODI # 3946  -1 wickets   61 runs  \n",
       "1   2018-01-09  ODI # 3947   8 wickets   -1 runs  \n",
       "2   2018-01-11  ODI # 3948   4 wickets   -1 runs  \n",
       "3   2018-01-13  ODI # 3949  -1 wickets  183 runs  \n",
       "4   2018-01-13  ODI # 3950  -1 wickets   67 runs  \n",
       "..         ...         ...         ...       ...  \n",
       "122 2018-11-09  ODI # 4068   6 wickets   -1 runs  \n",
       "123 2018-11-11  ODI # 4069  -1 wickets   40 runs  \n",
       "125 2018-12-09  ODI # 4071   5 wickets   -1 runs  \n",
       "126 2018-12-11  ODI # 4072   4 wickets   -1 runs  \n",
       "127 2018-12-14  ODI # 4073   8 wickets   -1 runs  \n",
       "\n",
       "[126 rows x 9 columns]"
      ]
     },
     "execution_count": 8,
     "metadata": {},
     "output_type": "execute_result"
    }
   ],
   "source": [
    "# Utility function to split the column into two based on the mentioned param which can be runs or wickets\n",
    "def split_margin():\n",
    "    for index, rows in matchesData.iterrows(): \n",
    "        if rows['Margin'].find(\"wickets\") != -1:\n",
    "            matchesData.loc[index,'Wickets']= rows['Margin']\n",
    "            matchesData.loc[index,'Runs']= \"-1 runs\"\n",
    "        elif rows['Margin'].find('runs') != -1:\n",
    "            matchesData.loc[index,'Wickets']= \"-1 wickets\"\n",
    "            matchesData.loc[index,'Runs']= rows['Margin']\n",
    "        \n",
    "split_margin()\n",
    "matchesData"
   ]
  },
  {
   "cell_type": "markdown",
   "id": "4a192e8a",
   "metadata": {},
   "source": [
    "## Which country played most ODI's in 2019?"
   ]
  },
  {
   "cell_type": "code",
   "execution_count": 9,
   "id": "25dfa36e",
   "metadata": {},
   "outputs": [
    {
     "data": {
      "text/plain": [
       "array([False, False, False, False, False, False, False, False, False,\n",
       "       False, False, False, False, False, False, False, False, False,\n",
       "       False, False, False, False, False, False, False, False, False,\n",
       "       False, False, False, False, False, False, False, False, False,\n",
       "       False, False, False, False, False, False, False, False, False,\n",
       "       False, False, False, False, False, False, False, False, False,\n",
       "       False, False, False, False, False, False, False, False, False,\n",
       "       False, False, False, False, False, False, False, False, False,\n",
       "       False, False, False, False, False, False, False, False, False,\n",
       "       False, False, False, False, False, False, False, False, False,\n",
       "       False, False, False, False, False, False, False, False, False,\n",
       "       False, False, False, False, False, False, False, False, False,\n",
       "       False, False, False, False, False, False, False, False, False,\n",
       "       False, False, False, False, False, False, False, False, False])"
      ]
     },
     "execution_count": 9,
     "metadata": {},
     "output_type": "execute_result"
    }
   ],
   "source": [
    "pd.DatetimeIndex(matchesData['Match Date']).year == 2019"
   ]
  },
  {
   "cell_type": "markdown",
   "id": "322e825c",
   "metadata": {},
   "source": [
    "As you can see that the dataset does not contain any matches from 2019. Hence we cannot answer the above question"
   ]
  },
  {
   "cell_type": "markdown",
   "id": "905ff0de",
   "metadata": {},
   "source": [
    "## Top 3 countries that won the most ODI's"
   ]
  },
  {
   "cell_type": "code",
   "execution_count": 10,
   "id": "9692707d",
   "metadata": {},
   "outputs": [
    {
     "data": {
      "text/plain": [
       "England       17\n",
       "India         14\n",
       "Bangladesh    13\n",
       "Name: Winner, dtype: int64"
      ]
     },
     "execution_count": 10,
     "metadata": {},
     "output_type": "execute_result"
    }
   ],
   "source": [
    "matchesData['Winner'].value_counts().head(3)"
   ]
  },
  {
   "cell_type": "code",
   "execution_count": 50,
   "id": "323028ba",
   "metadata": {},
   "outputs": [
    {
     "data": {
      "text/plain": [
       "England         17\n",
       "India           14\n",
       "Bangladesh      13\n",
       "Afghanistan     12\n",
       "South Africa     9\n",
       "Ireland          8\n",
       "Pakistan         8\n",
       "West Indies      8\n",
       "New Zealand      8\n",
       "Sri Lanka        6\n",
       "Scotland         5\n",
       "Zimbabwe         5\n",
       "U.A.E.           4\n",
       "tied             3\n",
       "Australia        2\n",
       "Hong Kong        1\n",
       "P.N.G.           1\n",
       "Netherlands      1\n",
       "Nepal            1\n",
       "Name: Winner, dtype: int64"
      ]
     },
     "execution_count": 50,
     "metadata": {},
     "output_type": "execute_result"
    }
   ],
   "source": [
    "winners = matchesData['Winner'].value_counts()\n",
    "winners"
   ]
  },
  {
   "cell_type": "code",
   "execution_count": 104,
   "id": "57c5f2d8",
   "metadata": {},
   "outputs": [
    {
     "data": {
      "image/png": "[encoded data removed]",
      "text/plain": [
       "<Figure size 3500x1400 with 1 Axes>"
      ]
     },
     "metadata": {
      "needs_background": "light"
     },
     "output_type": "display_data"
    }
   ],
   "source": [
    "# plotting a bar-graph to see the pattern \n",
    "labels = [\"England\", \"India\", \"Bangladesh\", \"Afghanistan\", \"South Africa\", \"Ireland\", \"Pakistan\", \"West Indies\", \"NZ\", \"Sri Lanka\", \"Scotland\", \"Zimbabwe\", \"U.A.E\", \"tied\",\"Australia\",\"Hong Kong\",\"P.N.G\",\"Netherlands\",\"Nepal\"]\n",
    "values = winners\n",
    "plt.figure(figsize = (35, 14), dpi = 100)\n",
    "bars = plt.bar(labels, values)\n",
    "plt.title(\"Matches Won by each Country\", fontdict = {\"fontweight\": \"bold\", \"fontsize\": \"40\"})\n",
    "plt.xlabel(\"Number of matches won\", fontsize = '28')\n",
    "plt.ylabel(\"Country\", fontsize = '28')\n",
    "plt.xticks(labels, rotation = 'vertical', size = 26)\n",
    "plt.show()"
   ]
  },
  {
   "cell_type": "markdown",
   "id": "5423116e",
   "metadata": {},
   "source": [
    "As seen England, India and Bangladesh have won the most ODI's in respective order"
   ]
  },
  {
   "cell_type": "markdown",
   "id": "be5fed04",
   "metadata": {},
   "source": [
    "## Based on ground, which cities the matches took place in?"
   ]
  },
  {
   "cell_type": "code",
   "execution_count": 13,
   "id": "83a5542e",
   "metadata": {},
   "outputs": [
    {
     "data": {
      "text/plain": [
       "Harare                16\n",
       "Bulawayo              12\n",
       "Dhaka                 10\n",
       "Dubai (DSC)            8\n",
       "Abu Dhabi              7\n",
       "ICCA Dubai             6\n",
       "Sharjah                5\n",
       "Pallekele              4\n",
       "Wellington             3\n",
       "Belfast                3\n",
       "Dambulla               3\n",
       "Providence             2\n",
       "Colombo (RPS)          2\n",
       "Nottingham             2\n",
       "Amstelveen             2\n",
       "Chattogram             2\n",
       "Centurion              2\n",
       "Perth                  2\n",
       "Adelaide               2\n",
       "Hamilton               2\n",
       "Dunedin                2\n",
       "Guwahati               1\n",
       "Paarl                  1\n",
       "Pune                   1\n",
       "Bloemfontein           1\n",
       "Kimberley              1\n",
       "Mumbai (BS)            1\n",
       "Kuala Lumpur           1\n",
       "Thiruvananthapuram     1\n",
       "Hobart                 1\n",
       "Visakhapatnam          1\n",
       "Chester-le-Street      1\n",
       "Basseterre             1\n",
       "Leeds                  1\n",
       "Melbourne              1\n",
       "Brisbane               1\n",
       "Sydney                 1\n",
       "Durban                 1\n",
       "Cape Town              1\n",
       "Johannesburg           1\n",
       "Port Elizabeth         1\n",
       "Mount Maunganui        1\n",
       "Christchurch           1\n",
       "Edinburgh              1\n",
       "The Oval               1\n",
       "Cardiff                1\n",
       "Nelson                 1\n",
       "Manchester             1\n",
       "Lord's                 1\n",
       "Sylhet                 1\n",
       "Name: Ground, dtype: int64"
      ]
     },
     "execution_count": 13,
     "metadata": {},
     "output_type": "execute_result"
    }
   ],
   "source": [
    "matchesData['Ground'].value_counts() #shows the ground and number of matches that took place in each"
   ]
  },
  {
   "cell_type": "markdown",
   "id": "a492c3f7",
   "metadata": {},
   "source": [
    "The above are the cities with the number of matches that took place in each"
   ]
  },
  {
   "cell_type": "markdown",
   "id": "031a13ca",
   "metadata": {},
   "source": [
    "## On which ground most matches were played?\n",
    "\n",
    "As seen in the above result, Harare was the ground in which most matches were played"
   ]
  },
  {
   "cell_type": "markdown",
   "id": "ac768c72",
   "metadata": {},
   "source": [
    "## How was performance of Sir Lanka?"
   ]
  },
  {
   "cell_type": "code",
   "execution_count": 14,
   "id": "0e0a897d",
   "metadata": {},
   "outputs": [
    {
     "data": {
      "text/plain": [
       "England         17\n",
       "India           14\n",
       "Bangladesh      13\n",
       "Afghanistan     12\n",
       "South Africa     9\n",
       "Ireland          8\n",
       "Pakistan         8\n",
       "West Indies      8\n",
       "New Zealand      8\n",
       "Sri Lanka        6\n",
       "Scotland         5\n",
       "Zimbabwe         5\n",
       "U.A.E.           4\n",
       "tied             3\n",
       "Australia        2\n",
       "Hong Kong        1\n",
       "P.N.G.           1\n",
       "Netherlands      1\n",
       "Nepal            1\n",
       "Name: Winner, dtype: int64"
      ]
     },
     "execution_count": 14,
     "metadata": {},
     "output_type": "execute_result"
    }
   ],
   "source": [
    "matchesData['Winner'].value_counts() # determining winnings of each country"
   ]
  },
  {
   "cell_type": "code",
   "execution_count": 126,
   "id": "63ea09b6",
   "metadata": {},
   "outputs": [
    {
     "name": "stdout",
     "output_type": "stream",
     "text": [
      "Total Matches: \n"
     ]
    },
    {
     "data": {
      "text/plain": [
       "126"
      ]
     },
     "execution_count": 126,
     "metadata": {},
     "output_type": "execute_result"
    }
   ],
   "source": [
    "print(\"Total Matches: \")\n",
    "matchesData['Winner'].value_counts().sum() #total matches that were held"
   ]
  },
  {
   "cell_type": "code",
   "execution_count": 16,
   "id": "d886d647",
   "metadata": {},
   "outputs": [
    {
     "data": {
      "text/html": [
       "<div>\n",
       "<style scoped>\n",
       "    .dataframe tbody tr th:only-of-type {\n",
       "        vertical-align: middle;\n",
       "    }\n",
       "\n",
       "    .dataframe tbody tr th {\n",
       "        vertical-align: top;\n",
       "    }\n",
       "\n",
       "    .dataframe thead th {\n",
       "        text-align: right;\n",
       "    }\n",
       "</style>\n",
       "<table border=\"1\" class=\"dataframe\">\n",
       "  <thead>\n",
       "    <tr style=\"text-align: right;\">\n",
       "      <th></th>\n",
       "      <th>Team 1</th>\n",
       "      <th>Team 2</th>\n",
       "      <th>Winner</th>\n",
       "      <th>Margin</th>\n",
       "      <th>Ground</th>\n",
       "      <th>Match Date</th>\n",
       "      <th>Scorecard</th>\n",
       "      <th>Wickets</th>\n",
       "      <th>Runs</th>\n",
       "    </tr>\n",
       "  </thead>\n",
       "  <tbody>\n",
       "    <tr>\n",
       "      <th>16</th>\n",
       "      <td>Sri Lanka</td>\n",
       "      <td>Zimbabwe</td>\n",
       "      <td>Sri Lanka</td>\n",
       "      <td>5 wickets</td>\n",
       "      <td>Dhaka</td>\n",
       "      <td>2018-01-21</td>\n",
       "      <td>ODI # 3962</td>\n",
       "      <td>5 wickets</td>\n",
       "      <td>-1 runs</td>\n",
       "    </tr>\n",
       "    <tr>\n",
       "      <th>19</th>\n",
       "      <td>Bangladesh</td>\n",
       "      <td>Sri Lanka</td>\n",
       "      <td>Sri Lanka</td>\n",
       "      <td>10 wickets</td>\n",
       "      <td>Dhaka</td>\n",
       "      <td>2018-01-25</td>\n",
       "      <td>ODI # 3965</td>\n",
       "      <td>10 wickets</td>\n",
       "      <td>-1 runs</td>\n",
       "    </tr>\n",
       "    <tr>\n",
       "      <th>21</th>\n",
       "      <td>Bangladesh</td>\n",
       "      <td>Sri Lanka</td>\n",
       "      <td>Sri Lanka</td>\n",
       "      <td>79 runs</td>\n",
       "      <td>Dhaka</td>\n",
       "      <td>2018-01-27</td>\n",
       "      <td>ODI # 3967</td>\n",
       "      <td>-1 wickets</td>\n",
       "      <td>79 runs</td>\n",
       "    </tr>\n",
       "    <tr>\n",
       "      <th>84</th>\n",
       "      <td>Sri Lanka</td>\n",
       "      <td>South Africa</td>\n",
       "      <td>Sri Lanka</td>\n",
       "      <td>3 runs</td>\n",
       "      <td>Pallekele</td>\n",
       "      <td>2018-08-08</td>\n",
       "      <td>ODI # 4030</td>\n",
       "      <td>-1 wickets</td>\n",
       "      <td>3 runs</td>\n",
       "    </tr>\n",
       "    <tr>\n",
       "      <th>85</th>\n",
       "      <td>Sri Lanka</td>\n",
       "      <td>South Africa</td>\n",
       "      <td>Sri Lanka</td>\n",
       "      <td>178 runs</td>\n",
       "      <td>Colombo (RPS)</td>\n",
       "      <td>2018-08-12</td>\n",
       "      <td>ODI # 4031</td>\n",
       "      <td>-1 wickets</td>\n",
       "      <td>178 runs</td>\n",
       "    </tr>\n",
       "    <tr>\n",
       "      <th>112</th>\n",
       "      <td>Sri Lanka</td>\n",
       "      <td>England</td>\n",
       "      <td>Sri Lanka</td>\n",
       "      <td>219 runs</td>\n",
       "      <td>Colombo (RPS)</td>\n",
       "      <td>2018-10-23</td>\n",
       "      <td>ODI # 4058</td>\n",
       "      <td>-1 wickets</td>\n",
       "      <td>219 runs</td>\n",
       "    </tr>\n",
       "  </tbody>\n",
       "</table>\n",
       "</div>"
      ],
      "text/plain": [
       "         Team 1        Team 2     Winner      Margin         Ground  \\\n",
       "16    Sri Lanka      Zimbabwe  Sri Lanka   5 wickets          Dhaka   \n",
       "19   Bangladesh     Sri Lanka  Sri Lanka  10 wickets          Dhaka   \n",
       "21   Bangladesh     Sri Lanka  Sri Lanka     79 runs          Dhaka   \n",
       "84    Sri Lanka  South Africa  Sri Lanka      3 runs      Pallekele   \n",
       "85    Sri Lanka  South Africa  Sri Lanka    178 runs  Colombo (RPS)   \n",
       "112   Sri Lanka       England  Sri Lanka    219 runs  Colombo (RPS)   \n",
       "\n",
       "    Match Date   Scorecard     Wickets      Runs  \n",
       "16  2018-01-21  ODI # 3962   5 wickets   -1 runs  \n",
       "19  2018-01-25  ODI # 3965  10 wickets   -1 runs  \n",
       "21  2018-01-27  ODI # 3967  -1 wickets   79 runs  \n",
       "84  2018-08-08  ODI # 4030  -1 wickets    3 runs  \n",
       "85  2018-08-12  ODI # 4031  -1 wickets  178 runs  \n",
       "112 2018-10-23  ODI # 4058  -1 wickets  219 runs  "
      ]
     },
     "execution_count": 16,
     "metadata": {},
     "output_type": "execute_result"
    }
   ],
   "source": [
    "matchesData[matchesData['Winner'] == \"Sri Lanka\"]"
   ]
  },
  {
   "cell_type": "markdown",
   "id": "c5f92462",
   "metadata": {},
   "source": [
    "As seen Sri Lanka won 6 matches out of 126 matches. It stands at 10th position in terms of the number of wins amongst 18 teams. But if compared to the highest number of matches i.e., 17 by England, it is safe to say that Sri Lanka had a Weak Performance"
   ]
  },
  {
   "cell_type": "markdown",
   "id": "b9162362",
   "metadata": {},
   "source": [
    "## What are the top three wins by runs?"
   ]
  },
  {
   "cell_type": "code",
   "execution_count": 162,
   "id": "ad9cc03a",
   "metadata": {},
   "outputs": [],
   "source": [
    "# utility script to aid in convertion of runs from strings to ints\n",
    "def runsToint():\n",
    "    run_wins = matchesData['Runs'].astype(str).str.split(pat=\" \", n = 1, expand = True)[0] \n",
    "    run_wins.astype(\"float\")\n",
    "    matchesData['Runs'] = run_wins\n",
    "    matchesData['Runs'] = matchesData['Runs'].astype(\"string\").astype(\"float64\")\n",
    "runsToint()"
   ]
  },
  {
   "cell_type": "code",
   "execution_count": 157,
   "id": "8f7d383f",
   "metadata": {},
   "outputs": [
    {
     "data": {
      "text/html": [
       "<div>\n",
       "<style scoped>\n",
       "    .dataframe tbody tr th:only-of-type {\n",
       "        vertical-align: middle;\n",
       "    }\n",
       "\n",
       "    .dataframe tbody tr th {\n",
       "        vertical-align: top;\n",
       "    }\n",
       "\n",
       "    .dataframe thead th {\n",
       "        text-align: right;\n",
       "    }\n",
       "</style>\n",
       "<table border=\"1\" class=\"dataframe\">\n",
       "  <thead>\n",
       "    <tr style=\"text-align: right;\">\n",
       "      <th></th>\n",
       "      <th>Team 1</th>\n",
       "      <th>Team 2</th>\n",
       "      <th>Winner</th>\n",
       "      <th>Margin</th>\n",
       "      <th>Ground</th>\n",
       "      <th>Match Date</th>\n",
       "      <th>Scorecard</th>\n",
       "      <th>Wickets</th>\n",
       "      <th>Runs</th>\n",
       "    </tr>\n",
       "  </thead>\n",
       "  <tbody>\n",
       "    <tr>\n",
       "      <th>74</th>\n",
       "      <td>Zimbabwe</td>\n",
       "      <td>Pakistan</td>\n",
       "      <td>Pakistan</td>\n",
       "      <td>244 runs</td>\n",
       "      <td>Bulawayo</td>\n",
       "      <td>2018-07-20</td>\n",
       "      <td>ODI # 4020</td>\n",
       "      <td>-1 wickets</td>\n",
       "      <td>244.0</td>\n",
       "    </tr>\n",
       "    <tr>\n",
       "      <th>65</th>\n",
       "      <td>England</td>\n",
       "      <td>Australia</td>\n",
       "      <td>England</td>\n",
       "      <td>242 runs</td>\n",
       "      <td>Nottingham</td>\n",
       "      <td>2018-06-19</td>\n",
       "      <td>ODI # 4011</td>\n",
       "      <td>-1 wickets</td>\n",
       "      <td>242.0</td>\n",
       "    </tr>\n",
       "    <tr>\n",
       "      <th>49</th>\n",
       "      <td>Ireland</td>\n",
       "      <td>U.A.E.</td>\n",
       "      <td>Ireland</td>\n",
       "      <td>226 runs</td>\n",
       "      <td>Harare</td>\n",
       "      <td>2018-03-12</td>\n",
       "      <td>ODI # 3995</td>\n",
       "      <td>-1 wickets</td>\n",
       "      <td>226.0</td>\n",
       "    </tr>\n",
       "  </tbody>\n",
       "</table>\n",
       "</div>"
      ],
      "text/plain": [
       "      Team 1     Team 2    Winner    Margin      Ground Match Date  \\\n",
       "74  Zimbabwe   Pakistan  Pakistan  244 runs    Bulawayo 2018-07-20   \n",
       "65   England  Australia   England  242 runs  Nottingham 2018-06-19   \n",
       "49   Ireland     U.A.E.   Ireland  226 runs      Harare 2018-03-12   \n",
       "\n",
       "     Scorecard     Wickets   Runs  \n",
       "74  ODI # 4020  -1 wickets  244.0  \n",
       "65  ODI # 4011  -1 wickets  242.0  \n",
       "49  ODI # 3995  -1 wickets  226.0  "
      ]
     },
     "execution_count": 157,
     "metadata": {},
     "output_type": "execute_result"
    }
   ],
   "source": [
    "run_wins = matchesData.sort_values(by=['Runs'], ascending=False).head(3)\n",
    "run_wins"
   ]
  },
  {
   "cell_type": "code",
   "execution_count": 158,
   "id": "99f73951",
   "metadata": {},
   "outputs": [
    {
     "data": {
      "image/png": "[encoded data removed]",
      "text/plain": [
       "<Figure size 480x300 with 1 Axes>"
      ]
     },
     "metadata": {
      "needs_background": "light"
     },
     "output_type": "display_data"
    }
   ],
   "source": [
    "x = [\"Pakistan\", \"England\", \"Ireland\"]\n",
    "y = run_wins['Runs']\n",
    "\n",
    "plt.figure(figsize = (8,5), dpi = 60)\n",
    "plt.plot(x,y, linewidth = 4, label = \"gradient\", marker = \".\", markersize = 20, markeredgecolor = \"red\", linestyle = \"-\")\n",
    "\n",
    "plt.title(\"Top Three Wins by Runs\", fontdict = {\"fontweight\": \"bold\", 'fontsize': 18})\n",
    "plt.xlabel(\"Country\")\n",
    "plt.ylabel(\"Runs\")\n",
    "\n",
    "plt.legend()\n",
    "plt.show()"
   ]
  },
  {
   "cell_type": "markdown",
   "id": "8f3830f8",
   "metadata": {},
   "source": [
    "Top three wins by runs are by Pakistan, England and Ireland in respective order."
   ]
  },
  {
   "cell_type": "markdown",
   "id": "599d3c47",
   "metadata": {},
   "source": [
    "## How many matches were played every month?\n",
    "## In which month most ODI's were played?"
   ]
  },
  {
   "cell_type": "code",
   "execution_count": 42,
   "id": "24bdc760",
   "metadata": {},
   "outputs": [
    {
     "data": {
      "text/plain": [
       "3     26\n",
       "1     23\n",
       "9     14\n",
       "2     13\n",
       "10    13\n",
       "7     12\n",
       "8     10\n",
       "6      6\n",
       "11     6\n",
       "12     3\n",
       "Name: Match Date, dtype: int64"
      ]
     },
     "execution_count": 42,
     "metadata": {},
     "output_type": "execute_result"
    }
   ],
   "source": [
    "pd.DatetimeIndex(matchesData['Match Date']).month.value_counts()"
   ]
  },
  {
   "cell_type": "markdown",
   "id": "f08886a2",
   "metadata": {},
   "source": [
    "As you can see the result, in 3rd months that is March 26 ODI's were played. And above shows the month and the number of matches taken place in the month"
   ]
  },
  {
   "cell_type": "markdown",
   "id": "a06dec91",
   "metadata": {},
   "source": [
    "## Did India win mostly by chasing or playing first?"
   ]
  },
  {
   "cell_type": "code",
   "execution_count": 43,
   "id": "a632dda3",
   "metadata": {},
   "outputs": [
    {
     "data": {
      "text/html": [
       "<div>\n",
       "<style scoped>\n",
       "    .dataframe tbody tr th:only-of-type {\n",
       "        vertical-align: middle;\n",
       "    }\n",
       "\n",
       "    .dataframe tbody tr th {\n",
       "        vertical-align: top;\n",
       "    }\n",
       "\n",
       "    .dataframe thead th {\n",
       "        text-align: right;\n",
       "    }\n",
       "</style>\n",
       "<table border=\"1\" class=\"dataframe\">\n",
       "  <thead>\n",
       "    <tr style=\"text-align: right;\">\n",
       "      <th></th>\n",
       "      <th>Team 1</th>\n",
       "      <th>Team 2</th>\n",
       "      <th>Winner</th>\n",
       "      <th>Margin</th>\n",
       "      <th>Ground</th>\n",
       "      <th>Match Date</th>\n",
       "      <th>Scorecard</th>\n",
       "      <th>Wickets</th>\n",
       "      <th>Runs</th>\n",
       "    </tr>\n",
       "  </thead>\n",
       "  <tbody>\n",
       "    <tr>\n",
       "      <th>23</th>\n",
       "      <td>South Africa</td>\n",
       "      <td>India</td>\n",
       "      <td>India</td>\n",
       "      <td>6 wickets</td>\n",
       "      <td>Durban</td>\n",
       "      <td>2018-02-01</td>\n",
       "      <td>ODI # 3969</td>\n",
       "      <td>6 wickets</td>\n",
       "      <td>-1.0</td>\n",
       "    </tr>\n",
       "    <tr>\n",
       "      <th>24</th>\n",
       "      <td>South Africa</td>\n",
       "      <td>India</td>\n",
       "      <td>India</td>\n",
       "      <td>9 wickets</td>\n",
       "      <td>Centurion</td>\n",
       "      <td>2018-02-04</td>\n",
       "      <td>ODI # 3970</td>\n",
       "      <td>9 wickets</td>\n",
       "      <td>-1.0</td>\n",
       "    </tr>\n",
       "    <tr>\n",
       "      <th>25</th>\n",
       "      <td>South Africa</td>\n",
       "      <td>India</td>\n",
       "      <td>India</td>\n",
       "      <td>124 runs</td>\n",
       "      <td>Cape Town</td>\n",
       "      <td>2018-02-07</td>\n",
       "      <td>ODI # 3971</td>\n",
       "      <td>-1 wickets</td>\n",
       "      <td>124.0</td>\n",
       "    </tr>\n",
       "    <tr>\n",
       "      <th>30</th>\n",
       "      <td>South Africa</td>\n",
       "      <td>India</td>\n",
       "      <td>India</td>\n",
       "      <td>73 runs</td>\n",
       "      <td>Port Elizabeth</td>\n",
       "      <td>2018-02-13</td>\n",
       "      <td>ODI # 3976</td>\n",
       "      <td>-1 wickets</td>\n",
       "      <td>73.0</td>\n",
       "    </tr>\n",
       "    <tr>\n",
       "      <th>32</th>\n",
       "      <td>South Africa</td>\n",
       "      <td>India</td>\n",
       "      <td>India</td>\n",
       "      <td>8 wickets</td>\n",
       "      <td>Centurion</td>\n",
       "      <td>2018-02-16</td>\n",
       "      <td>ODI # 3978</td>\n",
       "      <td>8 wickets</td>\n",
       "      <td>-1.0</td>\n",
       "    </tr>\n",
       "    <tr>\n",
       "      <th>68</th>\n",
       "      <td>England</td>\n",
       "      <td>India</td>\n",
       "      <td>India</td>\n",
       "      <td>8 wickets</td>\n",
       "      <td>Nottingham</td>\n",
       "      <td>2018-07-12</td>\n",
       "      <td>ODI # 4014</td>\n",
       "      <td>8 wickets</td>\n",
       "      <td>-1.0</td>\n",
       "    </tr>\n",
       "    <tr>\n",
       "      <th>93</th>\n",
       "      <td>Hong Kong</td>\n",
       "      <td>India</td>\n",
       "      <td>India</td>\n",
       "      <td>26 runs</td>\n",
       "      <td>Dubai (DSC)</td>\n",
       "      <td>2018-09-18</td>\n",
       "      <td>ODI # 4039</td>\n",
       "      <td>-1 wickets</td>\n",
       "      <td>26.0</td>\n",
       "    </tr>\n",
       "    <tr>\n",
       "      <th>94</th>\n",
       "      <td>India</td>\n",
       "      <td>Pakistan</td>\n",
       "      <td>India</td>\n",
       "      <td>8 wickets</td>\n",
       "      <td>Dubai (DSC)</td>\n",
       "      <td>2018-09-19</td>\n",
       "      <td>ODI # 4040</td>\n",
       "      <td>8 wickets</td>\n",
       "      <td>-1.0</td>\n",
       "    </tr>\n",
       "    <tr>\n",
       "      <th>96</th>\n",
       "      <td>Bangladesh</td>\n",
       "      <td>India</td>\n",
       "      <td>India</td>\n",
       "      <td>7 wickets</td>\n",
       "      <td>Dubai (DSC)</td>\n",
       "      <td>2018-09-21</td>\n",
       "      <td>ODI # 4042</td>\n",
       "      <td>7 wickets</td>\n",
       "      <td>-1.0</td>\n",
       "    </tr>\n",
       "    <tr>\n",
       "      <th>98</th>\n",
       "      <td>India</td>\n",
       "      <td>Pakistan</td>\n",
       "      <td>India</td>\n",
       "      <td>9 wickets</td>\n",
       "      <td>Dubai (DSC)</td>\n",
       "      <td>2018-09-23</td>\n",
       "      <td>ODI # 4044</td>\n",
       "      <td>9 wickets</td>\n",
       "      <td>-1.0</td>\n",
       "    </tr>\n",
       "    <tr>\n",
       "      <th>102</th>\n",
       "      <td>Bangladesh</td>\n",
       "      <td>India</td>\n",
       "      <td>India</td>\n",
       "      <td>3 wickets</td>\n",
       "      <td>Dubai (DSC)</td>\n",
       "      <td>2018-09-28</td>\n",
       "      <td>ODI # 4048</td>\n",
       "      <td>3 wickets</td>\n",
       "      <td>-1.0</td>\n",
       "    </tr>\n",
       "    <tr>\n",
       "      <th>110</th>\n",
       "      <td>India</td>\n",
       "      <td>West Indies</td>\n",
       "      <td>India</td>\n",
       "      <td>8 wickets</td>\n",
       "      <td>Guwahati</td>\n",
       "      <td>2018-10-21</td>\n",
       "      <td>ODI # 4056</td>\n",
       "      <td>8 wickets</td>\n",
       "      <td>-1.0</td>\n",
       "    </tr>\n",
       "    <tr>\n",
       "      <th>117</th>\n",
       "      <td>India</td>\n",
       "      <td>West Indies</td>\n",
       "      <td>India</td>\n",
       "      <td>224 runs</td>\n",
       "      <td>Mumbai (BS)</td>\n",
       "      <td>2018-10-29</td>\n",
       "      <td>ODI # 4063</td>\n",
       "      <td>-1 wickets</td>\n",
       "      <td>224.0</td>\n",
       "    </tr>\n",
       "    <tr>\n",
       "      <th>118</th>\n",
       "      <td>India</td>\n",
       "      <td>West Indies</td>\n",
       "      <td>India</td>\n",
       "      <td>9 wickets</td>\n",
       "      <td>Thiruvananthapuram</td>\n",
       "      <td>2018-11-01</td>\n",
       "      <td>ODI # 4064</td>\n",
       "      <td>9 wickets</td>\n",
       "      <td>-1.0</td>\n",
       "    </tr>\n",
       "  </tbody>\n",
       "</table>\n",
       "</div>"
      ],
      "text/plain": [
       "           Team 1       Team 2 Winner     Margin              Ground  \\\n",
       "23   South Africa        India  India  6 wickets              Durban   \n",
       "24   South Africa        India  India  9 wickets           Centurion   \n",
       "25   South Africa        India  India   124 runs           Cape Town   \n",
       "30   South Africa        India  India    73 runs      Port Elizabeth   \n",
       "32   South Africa        India  India  8 wickets           Centurion   \n",
       "68        England        India  India  8 wickets          Nottingham   \n",
       "93      Hong Kong        India  India    26 runs         Dubai (DSC)   \n",
       "94          India     Pakistan  India  8 wickets         Dubai (DSC)   \n",
       "96     Bangladesh        India  India  7 wickets         Dubai (DSC)   \n",
       "98          India     Pakistan  India  9 wickets         Dubai (DSC)   \n",
       "102    Bangladesh        India  India  3 wickets         Dubai (DSC)   \n",
       "110         India  West Indies  India  8 wickets            Guwahati   \n",
       "117         India  West Indies  India   224 runs         Mumbai (BS)   \n",
       "118         India  West Indies  India  9 wickets  Thiruvananthapuram   \n",
       "\n",
       "    Match Date   Scorecard     Wickets   Runs  \n",
       "23  2018-02-01  ODI # 3969   6 wickets   -1.0  \n",
       "24  2018-02-04  ODI # 3970   9 wickets   -1.0  \n",
       "25  2018-02-07  ODI # 3971  -1 wickets  124.0  \n",
       "30  2018-02-13  ODI # 3976  -1 wickets   73.0  \n",
       "32  2018-02-16  ODI # 3978   8 wickets   -1.0  \n",
       "68  2018-07-12  ODI # 4014   8 wickets   -1.0  \n",
       "93  2018-09-18  ODI # 4039  -1 wickets   26.0  \n",
       "94  2018-09-19  ODI # 4040   8 wickets   -1.0  \n",
       "96  2018-09-21  ODI # 4042   7 wickets   -1.0  \n",
       "98  2018-09-23  ODI # 4044   9 wickets   -1.0  \n",
       "102 2018-09-28  ODI # 4048   3 wickets   -1.0  \n",
       "110 2018-10-21  ODI # 4056   8 wickets   -1.0  \n",
       "117 2018-10-29  ODI # 4063  -1 wickets  224.0  \n",
       "118 2018-11-01  ODI # 4064   9 wickets   -1.0  "
      ]
     },
     "execution_count": 43,
     "metadata": {},
     "output_type": "execute_result"
    }
   ],
   "source": [
    "india_wins = matchesData.loc[(matchesData.Winner == 'India')]\n",
    "india_wins"
   ]
  },
  {
   "cell_type": "markdown",
   "id": "60aa9a52",
   "metadata": {},
   "source": [
    "India won by wickets means that they were chasing the score (played after) and winning by runs means india was playing first. \n",
    "This means that we have to consider the ratio of the matches won by wickets and runs. "
   ]
  },
  {
   "cell_type": "code",
   "execution_count": 44,
   "id": "269f1a61",
   "metadata": {},
   "outputs": [
    {
     "data": {
      "text/plain": [
       "4"
      ]
     },
     "execution_count": 44,
     "metadata": {},
     "output_type": "execute_result"
    }
   ],
   "source": [
    "india_wins[india_wins.Runs > 0].shape[0]"
   ]
  },
  {
   "cell_type": "code",
   "execution_count": 45,
   "id": "22b38437",
   "metadata": {},
   "outputs": [
    {
     "data": {
      "text/plain": [
       "10"
      ]
     },
     "execution_count": 45,
     "metadata": {},
     "output_type": "execute_result"
    }
   ],
   "source": [
    "india_wins[india_wins.Wickets != \"-1 wickets\"].shape[0]"
   ]
  },
  {
   "cell_type": "markdown",
   "id": "7c51d04e",
   "metadata": {},
   "source": [
    "As evident, India has won more matches by chasing than by playing first"
   ]
  }
 ],
 "metadata": {
  "kernelspec": {
   "display_name": "Python 3 (ipykernel)",
   "language": "python",
   "name": "python3"
  },
  "language_info": {
   "codemirror_mode": {
    "name": "ipython",
    "version": 3
   },
   "file_extension": ".py",
   "mimetype": "text/x-python",
   "name": "python",
   "nbconvert_exporter": "python",
   "pygments_lexer": "ipython3",
   "version": "3.9.2"
  }
 },
 "nbformat": 4,
 "nbformat_minor": 5
}
